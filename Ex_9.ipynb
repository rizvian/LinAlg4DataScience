{
 "cells": [
  {
   "cell_type": "code",
   "execution_count": 2,
   "id": "6382556e",
   "metadata": {},
   "outputs": [],
   "source": [
    "import numpy as np"
   ]
  },
  {
   "cell_type": "code",
   "execution_count": 3,
   "id": "06f323e6",
   "metadata": {},
   "outputs": [
    {
     "name": "stdout",
     "output_type": "stream",
     "text": [
      "[[1. 0.]\n",
      " [0. 1.]]\n",
      "[[1. 0. 0.]\n",
      " [0. 1. 0.]\n",
      " [0. 0. 1.]]\n"
     ]
    }
   ],
   "source": [
    "A = np.array([[1,-1],[1,1]])\n",
    "B = np.array([[1,2,2],[2,1,-2],[-2,2,-1]])\n",
    "Q1 = A/np.sqrt(2)\n",
    "Q2 = B/3\n",
    "print(Q1@Q1.T)\n",
    "print(Q2@Q2.T)\n"
   ]
  },
  {
   "cell_type": "code",
   "execution_count": null,
   "id": "7849db1f",
   "metadata": {},
   "outputs": [
    {
     "name": "stdout",
     "output_type": "stream",
     "text": [
      "[[ 7  3  5 10]\n",
      " [ 9  8 12 10]\n",
      " [ 7  2 10  8]\n",
      " [ 7 13 10  8]]\n",
      "\n",
      "\n",
      "2\n",
      "[ 5 12 10 10] [0. 0. 0. 0.]\n",
      "3\n",
      "[10 10  8  8] [0. 0. 0. 0.]\n",
      "3\n",
      "[ 5 12 10 10] [0. 0. 0. 0.]\n"
     ]
    }
   ],
   "source": [
    "#Ex 9-2\n",
    "r = 4\n",
    "c = 4\n",
    "A = np.array(np.random.randint(0,r*c,r*c)).reshape(r,c)\n",
    "Q_ = np.zeros(A.shape)\n",
    "\n",
    "print(A)\n",
    "print()\n",
    "print()\n",
    "for lp in range(c):\n",
    "    if lp==0:\n",
    "        Q_[:,lp] = A[:,lp]\n",
    "        continue\n",
    "    for lp2 in range(lp,1,-1):\n",
    "        print(lp)\n",
    "        r=A[:,lp2]\n",
    "        t=Q_[:,lp2-1]\n",
    "        print(r,t)\n"
   ]
  },
  {
   "cell_type": "code",
   "execution_count": 67,
   "id": "8e81ba54",
   "metadata": {},
   "outputs": [
    {
     "name": "stdout",
     "output_type": "stream",
     "text": [
      "[[ 1. -0. -0.  0.]\n",
      " [-0.  1. -0. -0.]\n",
      " [-0. -0.  1.  0.]\n",
      " [ 0. -0.  0.  1.]]\n",
      "\n",
      "\n",
      "[[ 1.  0. -0.  0.]\n",
      " [ 0.  1.  0.  0.]\n",
      " [-0.  0.  1.  0.]\n",
      " [ 0.  0.  0.  1.]]\n",
      "\n",
      "\n",
      "[[ 1.  0.  0. -0.]\n",
      " [-0.  1.  0.  0.]\n",
      " [-0.  0.  1.  0.]\n",
      " [-0. -0.  0.  1.]]\n",
      "\n",
      "\n",
      "[[ 1.  0. -0. -0.]\n",
      " [ 0.  1. -0.  0.]\n",
      " [ 0. -0.  1.  0.]\n",
      " [ 0. -0. -0.  1.]]\n"
     ]
    }
   ],
   "source": [
    "#Ex 9-1\n",
    "\n",
    "A = np.array(np.random.randint(1,20,16).reshape(4,4))\n",
    "Q, R = np.linalg.qr(A)\n",
    "print(np.round(Q.T@Q,5))\n",
    "print()\n",
    "print()\n",
    "print(np.round(Q@Q.T,5))\n",
    "print()\n",
    "print()\n",
    "print(np.round(Q@np.linalg.inv(Q),5))\n",
    "print()\n",
    "print()\n",
    "print(np.round(np.linalg.inv(Q)@Q,5))\n"
   ]
  },
  {
   "cell_type": "code",
   "execution_count": 121,
   "id": "a121fbc8",
   "metadata": {},
   "outputs": [
    {
     "name": "stdout",
     "output_type": "stream",
     "text": [
      "A\n",
      "[[19 19  2  7 19  2]\n",
      " [ 7 17  3  8 19 17]\n",
      " [ 8 11 10 16 18 10]\n",
      " [19  0 12 16  5  3]\n",
      " [ 6  1 19 10 12 13]\n",
      " [16  8  9 14 15  6]]\n",
      "U\n",
      "[[-1. -0.  0.  1. -0. -0.]\n",
      " [-0. -1. -0. -0. -0.  1.]\n",
      " [-0. -0. -0. -1. -0. -1.]\n",
      " [-1.  1.  0. -0. -0.  0.]\n",
      " [-0.  0. -1.  1.  0.  0.]\n",
      " [-0.  0.  0. -0.  1.  0.]]\n",
      "R\n",
      "[[ 1.  0.  0.  0.  0. -0.]\n",
      " [ 0.  1. -0.  0. -0.  0.]\n",
      " [ 0.  0.  1.  0. -0.  0.]\n",
      " [ 0.  0.  0.  1. -0.  0.]\n",
      " [ 0.  0.  0.  0.  1.  0.]\n",
      " [ 0.  0.  0.  0.  0.  1.]]\n",
      "u\n",
      "[[-1. -0.  0.  1. -0. -0.]\n",
      " [-0. -1. -0. -0. -0.  1.]\n",
      " [-0. -0. -0. -1. -0. -1.]\n",
      " [-1.  1.  0. -0. -0.  0.]\n",
      " [-0.  0. -1.  1.  0.  0.]\n",
      " [-0.  0.  0. -0.  1.  0.]]\n",
      "r\n",
      "[[-34. -21. -19. -27. -31. -14.]\n",
      " [  0. -20.   5.  -0. -18. -10.]\n",
      " [  0.   0. -18. -11. -12. -16.]\n",
      " [  0.   0.   0.  -8.  -1.  -2.]\n",
      " [  0.   0.   0.   0.   2.  -2.]\n",
      " [  0.   0.   0.   0.   0.   7.]]\n"
     ]
    }
   ],
   "source": [
    "A = np.random.randint(0,20,36).reshape(6,6)\n",
    "u,r = np.linalg.qr(A)\n",
    "U,R = np.linalg.qr(u)\n",
    "print(\"A\")\n",
    "print(np.round(A))\n",
    "print(\"U\")\n",
    "print(np.round(U))\n",
    "print(\"R\")\n",
    "print(np.round(R))\n",
    "print(\"u\")\n",
    "print(np.round(u))\n",
    "print(\"r\")\n",
    "print(np.round(r))"
   ]
  }
 ],
 "metadata": {
  "kernelspec": {
   "display_name": ".venv",
   "language": "python",
   "name": "python3"
  },
  "language_info": {
   "codemirror_mode": {
    "name": "ipython",
    "version": 3
   },
   "file_extension": ".py",
   "mimetype": "text/x-python",
   "name": "python",
   "nbconvert_exporter": "python",
   "pygments_lexer": "ipython3",
   "version": "3.13.3"
  }
 },
 "nbformat": 4,
 "nbformat_minor": 5
}
