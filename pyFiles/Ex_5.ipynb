{
 "cells": [
  {
   "cell_type": "code",
   "execution_count": 13,
   "metadata": {},
   "outputs": [],
   "source": [
    "import numpy as np"
   ]
  },
  {
   "cell_type": "code",
   "execution_count": 167,
   "metadata": {},
   "outputs": [
    {
     "data": {
      "text/plain": [
       "(array([[ 2,  3,  4,  1],\n",
       "        [ 2,  1,  3,  0],\n",
       "        [ 5,  3, -1, -3]]),\n",
       " array([[30, 19, 12],\n",
       "        [19, 14, 10],\n",
       "        [12, 10, 44]]),\n",
       " array([[30, 19, 12],\n",
       "        [19, 14, 10],\n",
       "        [12, 10, 44]]))"
      ]
     },
     "execution_count": 167,
     "metadata": {},
     "output_type": "execute_result"
    }
   ],
   "source": [
    "M = np.array ([[2,3,4,1],[2,1,3,0],[5,3,-1,-3]])\n",
    "MtM = M@M.T\n",
    "tMtM = np.array(MtM).T\n",
    "M, MtM,tMtM"
   ]
  },
  {
   "cell_type": "code",
   "execution_count": 246,
   "metadata": {},
   "outputs": [
    {
     "name": "stdout",
     "output_type": "stream",
     "text": [
      "[[0 1 2]\n",
      " [3 4 5]\n",
      " [6 7 8]] \n",
      " \n",
      " [[-2 -6  6]\n",
      " [ 2  8  4]\n",
      " [-2  0 -6]] \n",
      " \n",
      " [[ -4 -10  16]\n",
      " [ 10  24  18]\n",
      " [  8  14   4]] \n",
      " \n",
      " [[ -4 -10  16]\n",
      " [ 10  24  18]\n",
      " [  8  14   4]] \n",
      " \n",
      " [[ -4 -10  16]\n",
      " [ 10  24  18]\n",
      " [  8  14   4]]\n"
     ]
    }
   ],
   "source": [
    "A = np.arange(9).reshape(3,3)\n",
    "B = np.array(np.random.randint(-9,9,9)).reshape(3,3)\n",
    "print(A,\"\\n\",\"\\n\", B,\"\\n\",\"\\n\",2*(A+B),\"\\n\",\"\\n\", 2*A+2*B,\"\\n\",\"\\n\", A*2+B*2)"
   ]
  },
  {
   "cell_type": "code",
   "execution_count": 14,
   "metadata": {},
   "outputs": [
    {
     "name": "stdout",
     "output_type": "stream",
     "text": [
      "[[1. 1. 1. 1.]\n",
      " [1. 1. 1. 1.]\n",
      " [1. 1. 1. 1.]\n",
      " [1. 1. 1. 1.]] \n",
      " \n",
      " [[ 1  0  0  0]\n",
      " [ 0  4  0  0]\n",
      " [ 0  0  9  0]\n",
      " [ 0  0  0 16]] \n",
      " \n",
      " [[1. 0. 0. 0.]\n",
      " [0. 2. 0. 0.]\n",
      " [0. 0. 3. 0.]\n",
      " [0. 0. 0. 4.]] \n",
      " \n",
      "\n",
      "[[ 1.  4.  9. 16.]\n",
      " [ 1.  4.  9. 16.]\n",
      " [ 1.  4.  9. 16.]\n",
      " [ 1.  4.  9. 16.]]\n",
      "\n",
      "[[ 1.  1.  1.  1.]\n",
      " [ 4.  4.  4.  4.]\n",
      " [ 9.  9.  9.  9.]\n",
      " [16. 16. 16. 16.]]\n"
     ]
    }
   ],
   "source": [
    "ones = np.ones(16).reshape(4,4)\n",
    "diag = np.diag([1,4,9,16])\n",
    "dsqrt = diag**.5\n",
    "print(ones, \"\\n\", \"\\n\",diag, \"\\n\", \"\\n\",dsqrt, \"\\n\", \"\\n\")\n",
    "print(ones@diag)\n",
    "print()\n",
    "print(diag@ones)"
   ]
  }
 ],
 "metadata": {
  "kernelspec": {
   "display_name": "Python 3",
   "language": "python",
   "name": "python3"
  },
  "language_info": {
   "codemirror_mode": {
    "name": "ipython",
    "version": 3
   },
   "file_extension": ".py",
   "mimetype": "text/x-python",
   "name": "python",
   "nbconvert_exporter": "python",
   "pygments_lexer": "ipython3",
   "version": "3.11.2"
  }
 },
 "nbformat": 4,
 "nbformat_minor": 2
}
