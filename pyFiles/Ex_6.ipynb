{
 "cells": [
  {
   "cell_type": "code",
   "execution_count": 1,
   "metadata": {},
   "outputs": [],
   "source": [
    "import numpy as np"
   ]
  },
  {
   "cell_type": "code",
   "execution_count": 2,
   "metadata": {},
   "outputs": [
    {
     "name": "stdout",
     "output_type": "stream",
     "text": [
      "24.819347291981714\n",
      "24.819347291981714\n",
      "[[ 2  3  0]\n",
      " [ 9  5  6]\n",
      " [14 16  3]]\n"
     ]
    }
   ],
   "source": [
    "D = np.random.randint(0,20,9).reshape(3,3)\n",
    "print(np.sqrt(np.trace(D@D.T)))\n",
    "print(np.linalg.norm(D))\n",
    "print(D)\n"
   ]
  },
  {
   "cell_type": "code",
   "execution_count": 3,
   "metadata": {},
   "outputs": [
    {
     "name": "stdout",
     "output_type": "stream",
     "text": [
      "[[ 1  0  0  0  0]\n",
      " [ 0  4  0  0  0]\n",
      " [ 0  0  9  0  0]\n",
      " [ 0  0  0 16  0]\n",
      " [ 0  0  0  0 25]] \n",
      " \n",
      " [[ 1  0  0  0  0]\n",
      " [ 0  4  0  0  0]\n",
      " [ 0  0  9  0  0]\n",
      " [ 0  0  0 16  0]\n",
      " [ 0  0  0  0 25]]\n"
     ]
    }
   ],
   "source": [
    "D = np.diag([1,2,3,4,5])\n",
    "D\n",
    "print(D@D,\"\\n\",\"\\n\",D*D)"
   ]
  }
 ],
 "metadata": {
  "kernelspec": {
   "display_name": "Python 3",
   "language": "python",
   "name": "python3"
  },
  "language_info": {
   "codemirror_mode": {
    "name": "ipython",
    "version": 3
   },
   "file_extension": ".py",
   "mimetype": "text/x-python",
   "name": "python",
   "nbconvert_exporter": "python",
   "pygments_lexer": "ipython3",
   "version": "3.11.2"
  }
 },
 "nbformat": 4,
 "nbformat_minor": 2
}
