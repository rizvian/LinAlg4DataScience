{
 "cells": [
  {
   "cell_type": "code",
   "execution_count": 2,
   "metadata": {},
   "outputs": [],
   "source": [
    "import numpy as np"
   ]
  },
  {
   "cell_type": "code",
   "execution_count": 3,
   "metadata": {},
   "outputs": [
    {
     "name": "stdout",
     "output_type": "stream",
     "text": [
      "33.27160951922825\n",
      "33.27160951922825\n",
      "[[ 1  7 12]\n",
      " [ 5  6 16]\n",
      " [18 16  4]]\n",
      "11\n"
     ]
    }
   ],
   "source": [
    "D = np.random.randint(0,20,9).reshape(3,3)\n",
    "DD = D@D.T\n",
    "print(np.sqrt(np.trace(D@D.T)))\n",
    "print(np.linalg.norm(D))\n",
    "print(D)\n",
    "print(np.trace(D))\n",
    "\n"
   ]
  },
  {
   "cell_type": "code",
   "execution_count": null,
   "metadata": {},
   "outputs": [
    {
     "name": "stdout",
     "output_type": "stream",
     "text": [
      "D \n",
      " [[ 9  9 12]\n",
      " [11 10  9]\n",
      " [19 10  4]] \n",
      "\n",
      "306\n",
      "302\n",
      "477 \n",
      "\n",
      "D@D.T \n",
      " [[306 297 309]\n",
      " [297 302 345]\n",
      " [309 345 477]] \n",
      "\n",
      "square root of trace (D.T@D)= 32.93933818400121\n",
      "norm = 32.93933818400121\n"
     ]
    }
   ],
   "source": [
    "#the diagonal of a matrix DD.T@DD is defined by the dot product of each of its element\n",
    "print(\"D\",\"\\n\",D,\"\\n\")\n",
    "print(np.dot(D[0],D[0]))\n",
    "print(np.dot(D[1],D[1]))\n",
    "print(np.dot(D[2],D[2]),\"\\n\")\n",
    "print(\"D@D.T\",\"\\n\",D@D.T,\"\\n\")\n",
    "print(\"square root of trace (D.T@D)=\", np.sqrt(np.trace(D.T@D)))\n",
    "print(\"norm =\", np.linalg.norm(D))"
   ]
  },
  {
   "cell_type": "code",
   "execution_count": null,
   "metadata": {},
   "outputs": [
    {
     "name": "stdout",
     "output_type": "stream",
     "text": [
      "[[1 1 1]\n",
      " [2 2 2]\n",
      " [3 3 3]\n",
      " [4 4 4]]\n",
      "3\n",
      "12\n",
      "27\n",
      "48\n",
      "[[ 3  6  9 12]\n",
      " [ 6 12 18 24]\n",
      " [ 9 18 27 36]\n",
      " [12 24 36 48]]\n"
     ]
    }
   ],
   "source": [
    "a = np.array([[1,1,1]\n",
    "              ,[2,2,2],[3,3,3], [4,4,4]])\n",
    "print(a)\n",
    "print(a[0].T@a[0])\n",
    "print(a[1].T@a[1])\n",
    "print(a[2].T@a[2])\n",
    "print(a[3].T@a[3])\n",
    "print(a@a.T)"
   ]
  },
  {
   "cell_type": "code",
   "execution_count": null,
   "metadata": {},
   "outputs": [],
   "source": [
    "#Exercise 6.1\n",
    "\n"
   ]
  }
 ],
 "metadata": {
  "kernelspec": {
   "display_name": "Python 3",
   "language": "python",
   "name": "python3"
  },
  "language_info": {
   "codemirror_mode": {
    "name": "ipython",
    "version": 3
   },
   "file_extension": ".py",
   "mimetype": "text/x-python",
   "name": "python",
   "nbconvert_exporter": "python",
   "pygments_lexer": "ipython3",
   "version": "3.11.2"
  }
 },
 "nbformat": 4,
 "nbformat_minor": 2
}
