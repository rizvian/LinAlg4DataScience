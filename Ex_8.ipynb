{
 "cells": [
  {
   "cell_type": "code",
   "execution_count": 8,
   "id": "add1fdb6",
   "metadata": {},
   "outputs": [],
   "source": [
    "import numpy as np"
   ]
  },
  {
   "cell_type": "code",
   "execution_count": null,
   "id": "d4bb6364",
   "metadata": {},
   "outputs": [
    {
     "name": "stdout",
     "output_type": "stream",
     "text": [
      "[[1 4]\n",
      " [2 5]\n",
      " [3 6]] \n",
      " [[1. 0.]\n",
      " [0. 1.]] [[ 1.00000000e+00  0.00000000e+00]\n",
      " [-2.22044605e-16  1.00000000e+00]]\n"
     ]
    }
   ],
   "source": [
    "#One sided inverse\n",
    "#Left-Inverse\n",
    "A = np.array([[1,4],[2,5],[3,6]])\n",
    "tA = np.transpose(A) #to make it a square matrix\n",
    "tAA = tA@A #If A is full rank, tAA is a full rank invertible matrix\n",
    "tAInv = np.linalg.inv(tAA) \n",
    "AInv = tAInv@tAA\n",
    "L = tAInv@tA\n",
    "print(A, \"\\n\", AInv, L@A)"
   ]
  },
  {
   "cell_type": "code",
   "execution_count": 111,
   "id": "22aa63e7",
   "metadata": {},
   "outputs": [
    {
     "name": "stdout",
     "output_type": "stream",
     "text": [
      "[[ 3  0  2]\n",
      " [ 2  0 -2]\n",
      " [ 0  1  1]]\n",
      "[[  2.   2.   2.]\n",
      " [ -2.   3.   3.]\n",
      " [  0. -10.   0.]]\n",
      "[[ 2. -2.  2.]\n",
      " [ 2.  3. -3.]\n",
      " [ 0. 10.  0.]]\n",
      "[[ 0.2  0.2  0. ]\n",
      " [-0.2  0.3  1. ]\n",
      " [ 0.2 -0.3  0. ]]\n",
      "[[ 1.00000000e+00  0.00000000e+00  0.00000000e+00]\n",
      " [ 1.11022302e-16  1.00000000e+00  1.11022302e-16]\n",
      " [-1.11022302e-16  0.00000000e+00  1.00000000e+00]]\n"
     ]
    }
   ],
   "source": [
    "def minors(p_M , p_r, p_c):\n",
    "    retM = np.delete(p_M,p_r,0)\n",
    "    retM = np.delete(retM,p_c,1)\n",
    "    \n",
    "    return(np.linalg.det(retM))\n",
    "\n",
    "# A = np.random.randint(1,20,9).reshape(3,3)\n",
    "A = np.array([3,0,2,2,0,-2,0,1,1]).reshape(3,3)\n",
    "D = np.zeros((A.shape[0],A.shape[1]))\n",
    "C = np.zeros((A.shape[0],A.shape[1]))\n",
    "g = 1\n",
    "for r in range(A.shape[0]):\n",
    "    for c in range(A.shape[1]):\n",
    "        D[r,c]=minors(A,r,c)\n",
    "        C[r,c]= D[r,c]*g\n",
    "        g = 0-g\n",
    "\n",
    "print(A)\n",
    "print(D)\n",
    "print(C)\n",
    "invA = np.transpose(C)*(1/np.linalg.det(A))\n",
    "print(invA)\n",
    "print(invA@A)\n"
   ]
  }
 ],
 "metadata": {
  "kernelspec": {
   "display_name": "Python 3",
   "language": "python",
   "name": "python3"
  },
  "language_info": {
   "codemirror_mode": {
    "name": "ipython",
    "version": 3
   },
   "file_extension": ".py",
   "mimetype": "text/x-python",
   "name": "python",
   "nbconvert_exporter": "python",
   "pygments_lexer": "ipython3",
   "version": "3.11.9"
  }
 },
 "nbformat": 4,
 "nbformat_minor": 5
}
