{
 "cells": [
  {
   "cell_type": "code",
   "execution_count": 1,
   "id": "add1fdb6",
   "metadata": {},
   "outputs": [],
   "source": [
    "import numpy as np\n",
    "import plotly.express as px\n",
    "\n",
    "import matplotlib.pyplot as plt"
   ]
  },
  {
   "cell_type": "code",
   "execution_count": null,
   "id": "d4bb6364",
   "metadata": {},
   "outputs": [
    {
     "name": "stdout",
     "output_type": "stream",
     "text": [
      "A\n",
      " [[1 4]\n",
      " [2 5]\n",
      " [3 6]] \n",
      " L\n",
      " [[-0.94444444 -0.11111111  0.72222222]\n",
      " [ 0.44444444  0.11111111 -0.22222222]] \n",
      "L@A\n",
      " [[ 1.00000000e+00  0.00000000e+00]\n",
      " [-2.22044605e-16  1.00000000e+00]]\n"
     ]
    }
   ],
   "source": [
    "#One sided inverse\n",
    "#Left-Inverse\n",
    "A = np.array([[1,4],[2,5],[3,6]])\n",
    "\n",
    "tA = np.transpose(A) #to make it a square matrix\n",
    "tAA = tA@A #If A is full rank, tAA is a full rank invertible matrix\n",
    "tAInv = np.linalg.inv(tAA) \n",
    "AInv = tAInv@tAA\n",
    "L = tAInv@tA\n",
    "print(\"A\\n\", A, \"\\n\", \"L\\n\",L, \"\\nL@A\\n\", L@A)"
   ]
  },
  {
   "cell_type": "code",
   "execution_count": null,
   "id": "22aa63e7",
   "metadata": {},
   "outputs": [
    {
     "name": "stdout",
     "output_type": "stream",
     "text": [
      "A\n",
      " [[ 2 18  2 11]\n",
      " [ 9  5  9  9]\n",
      " [ 4 14 19  5]\n",
      " [ 4  2 19  5]]\n",
      "invA\n",
      " [[-0.1037037   0.16378601  0.0984225  -0.16508916]\n",
      " [ 0.         -0.          0.08333333 -0.08333333]\n",
      " [-0.00740741 -0.02798354  0.01165981  0.05500686]\n",
      " [ 0.11111111 -0.02469136 -0.1563786   0.1563786 ]]\n",
      "A@invA\n",
      " [[ 1. -0. -0.  0.]\n",
      " [ 0.  1. -0.  0.]\n",
      " [ 0. -0.  1.  0.]\n",
      " [ 0. -0. -0.  1.]]\n",
      "pinvA\n",
      " [[-1.03703704e-01  1.63786008e-01  9.84224966e-02 -1.65089163e-01]\n",
      " [ 6.93889390e-18  1.38777878e-17  8.33333333e-02 -8.33333333e-02]\n",
      " [-7.40740741e-03 -2.79835391e-02  1.16598080e-02  5.50068587e-02]\n",
      " [ 1.11111111e-01 -2.46913580e-02 -1.56378601e-01  1.56378601e-01]]\n"
     ]
    }
   ],
   "source": [
    "# Calculate a full-rank matrix's inverse\n",
    "\n",
    "def minors(p_M , p_r, p_c):\n",
    "    retM = np.delete(p_M,p_r,0)\n",
    "    retM = np.delete(retM,p_c,1)\n",
    "    \n",
    "    return(np.linalg.det(retM))\n",
    "\n",
    "A = np.random.randint(1,20,16).reshape(4,4)\n",
    "if np.linalg.matrix_rank(A)<A.shape[0]:\n",
    "    print(\"Non-invertible matrix\")\n",
    "    exit\n",
    "# A = np.array([3,0,2,2,0,-2,0,1,1]).reshape(3,3)\n",
    "D = np.zeros((A.shape[0],A.shape[1]))\n",
    "C = np.zeros((A.shape[0],A.shape[1]))\n",
    "G = np.zeros((A.shape[0],A.shape[1]))\n",
    "g = 0\n",
    "for r in range(A.shape[0]):\n",
    "    for c in range(A.shape[1]):\n",
    "        D[r,c]=minors(A,r,c)\n",
    "        g = (-1)**(r+c)\n",
    "        G[r,c]=g\n",
    "        C[r,c]= D[r,c]*g\n",
    "\n",
    "print(\"A\\n\",A)\n",
    "invA = np.transpose(C)*(1/np.linalg.det(A))\n",
    "print(\"invA\\n\", invA)\n",
    "print(\"A@invA\\n\", np.round(A@invA))\n",
    "#Ex 8-5\n",
    "print(\"pinvA\\n\", np.linalg.pinv(A))\n"
   ]
  },
  {
   "cell_type": "code",
   "execution_count": null,
   "id": "6e17afb4",
   "metadata": {},
   "outputs": [
    {
     "name": "stdout",
     "output_type": "stream",
     "text": [
      "A\n",
      " [[ 1  4  7]\n",
      " [ 2  5  8]\n",
      " [ 3 16 19]]\n",
      "invinvA\n",
      " [[ 1.  4.  7.]\n",
      " [ 2.  5.  8.]\n",
      " [ 3. 16. 19.]]\n"
     ]
    }
   ],
   "source": [
    "#Ex 8-1\n",
    "A = np.array([[1,4,7],[2,5,8],[3,16,19]])\n",
    "print(\"A\\n\", A)\n",
    "invA = np.linalg.inv(A)\n",
    "invinvA = np.linalg.inv(invA)\n",
    "print(\"invinvA\\n\",invinvA)"
   ]
  },
  {
   "cell_type": "code",
   "execution_count": 3,
   "id": "e55a1191",
   "metadata": {},
   "outputs": [
    {
     "name": "stdout",
     "output_type": "stream",
     "text": [
      "A\n",
      " [[ 1 12 13]\n",
      " [ 4  5  6]]\n",
      "R\n",
      " [[-0.12232187  0.27752865]\n",
      " [ 0.0533134  -0.03338316]\n",
      " [ 0.03712008  0.00946687]] \n",
      "A@R\n",
      " [[ 1.00000000e+00 -3.33066907e-16]\n",
      " [ 1.66533454e-16  1.00000000e+00]]\n",
      "pInv\n",
      "[[-0.12232187  0.27752865]\n",
      " [ 0.0533134  -0.03338316]\n",
      " [ 0.03712008  0.00946687]]\n"
     ]
    }
   ],
   "source": [
    "#Ex 8-4\n",
    "\n",
    "A = np.transpose(np.array([[1,4],[12,5],[13,6]]))\n",
    "print(\"A\\n\", A)\n",
    "tA = np.transpose(A) #to make it a square matrix\n",
    "AtA = A@tA #If A is full rank, AtA is a full rank invertible matrix\n",
    "tAInv = np.linalg.inv(AtA) \n",
    "AInv = AtA@tAInv\n",
    "R = tA@tAInv\n",
    "print(\"R\\n\",R ,\"\\nA@R\\n\", A@R)\n",
    "#Ex 8-5\n",
    "print(\"pInv\")\n",
    "print(np.linalg.pinv(A))"
   ]
  },
  {
   "cell_type": "code",
   "execution_count": 11,
   "id": "2b0cb71e",
   "metadata": {},
   "outputs": [
    {
     "name": "stdout",
     "output_type": "stream",
     "text": [
      "15.333786225195709 2.9999999999999907 2.9999999999999907\n"
     ]
    }
   ],
   "source": [
    "A = np.array([[1,2],[3,4]])\n",
    "B = np.array([[4,5],[6,7]])\n",
    "\n",
    "M1 = np.linalg.norm(np.linalg.inv(A@B))\n",
    "M2 = np.linalg.norm(np.linalg.inv(A) - np.linalg.inv(B))\n",
    "M3 = np.linalg.norm(np.linalg.inv(B) - np.linalg.inv(A))\n",
    "\n",
    "print (M1,M2,M3)\n"
   ]
  },
  {
   "cell_type": "code",
   "execution_count": null,
   "id": "a56ef3c4",
   "metadata": {},
   "outputs": [
    {
     "data": {
      "image/png": "[encoded data removed]",
      "text/plain": [
       "<Figure size 600x600 with 1 Axes>"
      ]
     },
     "metadata": {},
     "output_type": "display_data"
    }
   ],
   "source": [
    "# Ex 8-8\n",
    "# Transformation matrix\n",
    "T = np.array([\n",
    "              [1,.5],\n",
    "              [0,.5]\n",
    "            ])\n",
    "\n",
    "\n",
    "# define the set of points (a circle)\n",
    "theta = np.linspace(0,2*np.pi-2*np.pi/20,20)\n",
    "origPoints = np.vstack( (np.cos(theta),np.sin(theta)) )\n",
    "\n",
    "# apply transformation\n",
    "transformedPoints = T @ origPoints\n",
    "invTransformedPoints = np.linalg.inv(T)@transformedPoints\n",
    "origPoints\n",
    "\n",
    "# plot the points\n",
    "plt.figure(figsize=(6,6))\n",
    "plt.plot(origPoints[0,:],origPoints[1,:],'ko',label='Original')\n",
    "plt.plot(transformedPoints[0,:],transformedPoints[1,:],'s',\n",
    "         color=[.7,.7,.7],label='Transformed')\n",
    "plt.plot(invTransformedPoints[0,:],invTransformedPoints[1,:],'p',\n",
    "         color=[.9,.1,.9],label='invTransformed')\n",
    "\n",
    "plt.axis('square')\n",
    "plt.xlim([-2,2])\n",
    "plt.ylim([-2,2])\n",
    "plt.legend()\n",
    "plt.savefig('Figure_07_08.png',dpi=300)\n",
    "plt.show()"
   ]
  },
  {
   "cell_type": "code",
   "execution_count": 99,
   "id": "0fde218f",
   "metadata": {},
   "outputs": [
    {
     "name": "stderr",
     "output_type": "stream",
     "text": [
      "/tmp/ipykernel_4312/4179855633.py:31: RuntimeWarning:\n",
      "\n",
      "divide by zero encountered in log\n",
      "\n"
     ]
    },
    {
     "data": {
      "application/vnd.plotly.v1+json": {
       "config": {
        "plotlyServerURL": "https://plot.ly"
       },
       "data": [
        {
         "hovertemplate": "variable=0<br>index=%{x}<br>value=%{y}<extra></extra>",
         "legendgroup": "0",
         "line": {
          "color": "#636efa",
          "dash": "solid"
         },
         "marker": {
          "symbol": "circle"
         },
         "mode": "lines",
         "name": "0",
         "orientation": "v",
         "showlegend": true,
         "type": "scatter",
         "x": {
          "bdata": "AAECAwQFBgcICQoLDA0=",
          "dtype": "i1"
         },
         "xaxis": "x",
         "y": {
          "bdata": "crMhs4OK+D+n+c/GmNcKQCZWiwcesP0/dDAzx7uIB0CiSyaO7AgIQAec4qH2rQdA34cchpD2GkBTR1u/kecGQJxdcx8fFw1AAY6nd+BpDkAayiSjFoIKQCpjkZ9PaA5AAAAAAAAA8P8AzTIeHNAIQA==",
          "dtype": "f8"
         },
         "yaxis": "y"
        }
       ],
       "layout": {
        "legend": {
         "title": {
          "text": "variable"
         },
         "tracegroupgap": 0
        },
        "margin": {
         "t": 60
        },
        "template": {
         "data": {
          "bar": [
           {
            "error_x": {
             "color": "#2a3f5f"
            },
            "error_y": {
             "color": "#2a3f5f"
            },
            "marker": {
             "line": {
              "color": "#E5ECF6",
              "width": 0.5
             },
             "pattern": {
              "fillmode": "overlay",
              "size": 10,
              "solidity": 0.2
             }
            },
            "type": "bar"
           }
          ],
          "barpolar": [
           {
            "marker": {
             "line": {
              "color": "#E5ECF6",
              "width": 0.5
             },
             "pattern": {
              "fillmode": "overlay",
              "size": 10,
              "solidity": 0.2
             }
            },
            "type": "barpolar"
           }
          ],
          "carpet": [
           {
            "aaxis": {
             "endlinecolor": "#2a3f5f",
             "gridcolor": "white",
             "linecolor": "white",
             "minorgridcolor": "white",
             "startlinecolor": "#2a3f5f"
            },
            "baxis": {
             "endlinecolor": "#2a3f5f",
             "gridcolor": "white",
             "linecolor": "white",
             "minorgridcolor": "white",
             "startlinecolor": "#2a3f5f"
            },
            "type": "carpet"
           }
          ],
          "choropleth": [
           {
            "colorbar": {
             "outlinewidth": 0,
             "ticks": ""
            },
            "type": "choropleth"
           }
          ],
          "contour": [
           {
            "colorbar": {
             "outlinewidth": 0,
             "ticks": ""
            },
            "colorscale": [
             [
              0,
              "#0d0887"
             ],
             [
              0.1111111111111111,
              "#46039f"
             ],
             [
              0.2222222222222222,
              "#7201a8"
             ],
             [
              0.3333333333333333,
              "#9c179e"
             ],
             [
              0.4444444444444444,
              "#bd3786"
             ],
             [
              0.5555555555555556,
              "#d8576b"
             ],
             [
              0.6666666666666666,
              "#ed7953"
             ],
             [
              0.7777777777777778,
              "#fb9f3a"
             ],
             [
              0.8888888888888888,
              "#fdca26"
             ],
             [
              1,
              "#f0f921"
             ]
            ],
            "type": "contour"
           }
          ],
          "contourcarpet": [
           {
            "colorbar": {
             "outlinewidth": 0,
             "ticks": ""
            },
            "type": "contourcarpet"
           }
          ],
          "heatmap": [
           {
            "colorbar": {
             "outlinewidth": 0,
             "ticks": ""
            },
            "colorscale": [
             [
              0,
              "#0d0887"
             ],
             [
              0.1111111111111111,
              "#46039f"
             ],
             [
              0.2222222222222222,
              "#7201a8"
             ],
             [
              0.3333333333333333,
              "#9c179e"
             ],
             [
              0.4444444444444444,
              "#bd3786"
             ],
             [
              0.5555555555555556,
              "#d8576b"
             ],
             [
              0.6666666666666666,
              "#ed7953"
             ],
             [
              0.7777777777777778,
              "#fb9f3a"
             ],
             [
              0.8888888888888888,
              "#fdca26"
             ],
             [
              1,
              "#f0f921"
             ]
            ],
            "type": "heatmap"
           }
          ],
          "histogram": [
           {
            "marker": {
             "pattern": {
              "fillmode": "overlay",
              "size": 10,
              "solidity": 0.2
             }
            },
            "type": "histogram"
           }
          ],
          "histogram2d": [
           {
            "colorbar": {
             "outlinewidth": 0,
             "ticks": ""
            },
            "colorscale": [
             [
              0,
              "#0d0887"
             ],
             [
              0.1111111111111111,
              "#46039f"
             ],
             [
              0.2222222222222222,
              "#7201a8"
             ],
             [
              0.3333333333333333,
              "#9c179e"
             ],
             [
              0.4444444444444444,
              "#bd3786"
             ],
             [
              0.5555555555555556,
              "#d8576b"
             ],
             [
              0.6666666666666666,
              "#ed7953"
             ],
             [
              0.7777777777777778,
              "#fb9f3a"
             ],
             [
              0.8888888888888888,
              "#fdca26"
             ],
             [
              1,
              "#f0f921"
             ]
            ],
            "type": "histogram2d"
           }
          ],
          "histogram2dcontour": [
           {
            "colorbar": {
             "outlinewidth": 0,
             "ticks": ""
            },
            "colorscale": [
             [
              0,
              "#0d0887"
             ],
             [
              0.1111111111111111,
              "#46039f"
             ],
             [
              0.2222222222222222,
              "#7201a8"
             ],
             [
              0.3333333333333333,
              "#9c179e"
             ],
             [
              0.4444444444444444,
              "#bd3786"
             ],
             [
              0.5555555555555556,
              "#d8576b"
             ],
             [
              0.6666666666666666,
              "#ed7953"
             ],
             [
              0.7777777777777778,
              "#fb9f3a"
             ],
             [
              0.8888888888888888,
              "#fdca26"
             ],
             [
              1,
              "#f0f921"
             ]
            ],
            "type": "histogram2dcontour"
           }
          ],
          "mesh3d": [
           {
            "colorbar": {
             "outlinewidth": 0,
             "ticks": ""
            },
            "type": "mesh3d"
           }
          ],
          "parcoords": [
           {
            "line": {
             "colorbar": {
              "outlinewidth": 0,
              "ticks": ""
             }
            },
            "type": "parcoords"
           }
          ],
          "pie": [
           {
            "automargin": true,
            "type": "pie"
           }
          ],
          "scatter": [
           {
            "fillpattern": {
             "fillmode": "overlay",
             "size": 10,
             "solidity": 0.2
            },
            "type": "scatter"
           }
          ],
          "scatter3d": [
           {
            "line": {
             "colorbar": {
              "outlinewidth": 0,
              "ticks": ""
             }
            },
            "marker": {
             "colorbar": {
              "outlinewidth": 0,
              "ticks": ""
             }
            },
            "type": "scatter3d"
           }
          ],
          "scattercarpet": [
           {
            "marker": {
             "colorbar": {
              "outlinewidth": 0,
              "ticks": ""
             }
            },
            "type": "scattercarpet"
           }
          ],
          "scattergeo": [
           {
            "marker": {
             "colorbar": {
              "outlinewidth": 0,
              "ticks": ""
             }
            },
            "type": "scattergeo"
           }
          ],
          "scattergl": [
           {
            "marker": {
             "colorbar": {
              "outlinewidth": 0,
              "ticks": ""
             }
            },
            "type": "scattergl"
           }
          ],
          "scattermap": [
           {
            "marker": {
             "colorbar": {
              "outlinewidth": 0,
              "ticks": ""
             }
            },
            "type": "scattermap"
           }
          ],
          "scattermapbox": [
           {
            "marker": {
             "colorbar": {
              "outlinewidth": 0,
              "ticks": ""
             }
            },
            "type": "scattermapbox"
           }
          ],
          "scatterpolar": [
           {
            "marker": {
             "colorbar": {
              "outlinewidth": 0,
              "ticks": ""
             }
            },
            "type": "scatterpolar"
           }
          ],
          "scatterpolargl": [
           {
            "marker": {
             "colorbar": {
              "outlinewidth": 0,
              "ticks": ""
             }
            },
            "type": "scatterpolargl"
           }
          ],
          "scatterternary": [
           {
            "marker": {
             "colorbar": {
              "outlinewidth": 0,
              "ticks": ""
             }
            },
            "type": "scatterternary"
           }
          ],
          "surface": [
           {
            "colorbar": {
             "outlinewidth": 0,
             "ticks": ""
            },
            "colorscale": [
             [
              0,
              "#0d0887"
             ],
             [
              0.1111111111111111,
              "#46039f"
             ],
             [
              0.2222222222222222,
              "#7201a8"
             ],
             [
              0.3333333333333333,
              "#9c179e"
             ],
             [
              0.4444444444444444,
              "#bd3786"
             ],
             [
              0.5555555555555556,
              "#d8576b"
             ],
             [
              0.6666666666666666,
              "#ed7953"
             ],
             [
              0.7777777777777778,
              "#fb9f3a"
             ],
             [
              0.8888888888888888,
              "#fdca26"
             ],
             [
              1,
              "#f0f921"
             ]
            ],
            "type": "surface"
           }
          ],
          "table": [
           {
            "cells": {
             "fill": {
              "color": "#EBF0F8"
             },
             "line": {
              "color": "white"
             }
            },
            "header": {
             "fill": {
              "color": "#C8D4E3"
             },
             "line": {
              "color": "white"
             }
            },
            "type": "table"
           }
          ]
         },
         "layout": {
          "annotationdefaults": {
           "arrowcolor": "#2a3f5f",
           "arrowhead": 0,
           "arrowwidth": 1
          },
          "autotypenumbers": "strict",
          "coloraxis": {
           "colorbar": {
            "outlinewidth": 0,
            "ticks": ""
           }
          },
          "colorscale": {
           "diverging": [
            [
             0,
             "#8e0152"
            ],
            [
             0.1,
             "#c51b7d"
            ],
            [
             0.2,
             "#de77ae"
            ],
            [
             0.3,
             "#f1b6da"
            ],
            [
             0.4,
             "#fde0ef"
            ],
            [
             0.5,
             "#f7f7f7"
            ],
            [
             0.6,
             "#e6f5d0"
            ],
            [
             0.7,
             "#b8e186"
            ],
            [
             0.8,
             "#7fbc41"
            ],
            [
             0.9,
             "#4d9221"
            ],
            [
             1,
             "#276419"
            ]
           ],
           "sequential": [
            [
             0,
             "#0d0887"
            ],
            [
             0.1111111111111111,
             "#46039f"
            ],
            [
             0.2222222222222222,
             "#7201a8"
            ],
            [
             0.3333333333333333,
             "#9c179e"
            ],
            [
             0.4444444444444444,
             "#bd3786"
            ],
            [
             0.5555555555555556,
             "#d8576b"
            ],
            [
             0.6666666666666666,
             "#ed7953"
            ],
            [
             0.7777777777777778,
             "#fb9f3a"
            ],
            [
             0.8888888888888888,
             "#fdca26"
            ],
            [
             1,
             "#f0f921"
            ]
           ],
           "sequentialminus": [
            [
             0,
             "#0d0887"
            ],
            [
             0.1111111111111111,
             "#46039f"
            ],
            [
             0.2222222222222222,
             "#7201a8"
            ],
            [
             0.3333333333333333,
             "#9c179e"
            ],
            [
             0.4444444444444444,
             "#bd3786"
            ],
            [
             0.5555555555555556,
             "#d8576b"
            ],
            [
             0.6666666666666666,
             "#ed7953"
            ],
            [
             0.7777777777777778,
             "#fb9f3a"
            ],
            [
             0.8888888888888888,
             "#fdca26"
            ],
            [
             1,
             "#f0f921"
            ]
           ]
          },
          "colorway": [
           "#636efa",
           "#EF553B",
           "#00cc96",
           "#ab63fa",
           "#FFA15A",
           "#19d3f3",
           "#FF6692",
           "#B6E880",
           "#FF97FF",
           "#FECB52"
          ],
          "font": {
           "color": "#2a3f5f"
          },
          "geo": {
           "bgcolor": "white",
           "lakecolor": "white",
           "landcolor": "#E5ECF6",
           "showlakes": true,
           "showland": true,
           "subunitcolor": "white"
          },
          "hoverlabel": {
           "align": "left"
          },
          "hovermode": "closest",
          "mapbox": {
           "style": "light"
          },
          "paper_bgcolor": "white",
          "plot_bgcolor": "#E5ECF6",
          "polar": {
           "angularaxis": {
            "gridcolor": "white",
            "linecolor": "white",
            "ticks": ""
           },
           "bgcolor": "#E5ECF6",
           "radialaxis": {
            "gridcolor": "white",
            "linecolor": "white",
            "ticks": ""
           }
          },
          "scene": {
           "xaxis": {
            "backgroundcolor": "#E5ECF6",
            "gridcolor": "white",
            "gridwidth": 2,
            "linecolor": "white",
            "showbackground": true,
            "ticks": "",
            "zerolinecolor": "white"
           },
           "yaxis": {
            "backgroundcolor": "#E5ECF6",
            "gridcolor": "white",
            "gridwidth": 2,
            "linecolor": "white",
            "showbackground": true,
            "ticks": "",
            "zerolinecolor": "white"
           },
           "zaxis": {
            "backgroundcolor": "#E5ECF6",
            "gridcolor": "white",
            "gridwidth": 2,
            "linecolor": "white",
            "showbackground": true,
            "ticks": "",
            "zerolinecolor": "white"
           }
          },
          "shapedefaults": {
           "line": {
            "color": "#2a3f5f"
           }
          },
          "ternary": {
           "aaxis": {
            "gridcolor": "white",
            "linecolor": "white",
            "ticks": ""
           },
           "baxis": {
            "gridcolor": "white",
            "linecolor": "white",
            "ticks": ""
           },
           "bgcolor": "#E5ECF6",
           "caxis": {
            "gridcolor": "white",
            "linecolor": "white",
            "ticks": ""
           }
          },
          "title": {
           "x": 0.05
          },
          "xaxis": {
           "automargin": true,
           "gridcolor": "white",
           "linecolor": "white",
           "ticks": "",
           "title": {
            "standoff": 15
           },
           "zerolinecolor": "white",
           "zerolinewidth": 2
          },
          "yaxis": {
           "automargin": true,
           "gridcolor": "white",
           "linecolor": "white",
           "ticks": "",
           "title": {
            "standoff": 15
           },
           "zerolinecolor": "white",
           "zerolinewidth": 2
          }
         }
        },
        "xaxis": {
         "anchor": "y",
         "domain": [
          0,
          1
         ],
         "title": {
          "text": "index"
         }
        },
        "yaxis": {
         "anchor": "x",
         "domain": [
          0,
          1
         ],
         "title": {
          "text": "value"
         }
        }
       }
      }
     },
     "metadata": {},
     "output_type": "display_data"
    }
   ],
   "source": [
    "#Ex 8-10\n",
    "\n",
    "def hilbert(p_rows, p_cols):\n",
    "    a = np.array(range(p_rows))+1\n",
    "    b = np.array(range(p_cols))+1\n",
    "    return 1/(np.add.outer(a,b)-1)\n",
    "\n",
    "def grand(p_rows, p_cols):\n",
    "    return np.array(np.random.normal(size=(p_rows,p_cols))).reshape(p_rows,p_cols)\n",
    "\n",
    "for lp in range(3,16):\n",
    "    if lp == 3:\n",
    "        hld = np.zeros(14)\n",
    "        hlc = np.zeros(14)\n",
    "    \n",
    "    h_i = np.linalg.inv(hilbert(lp,lp))@hilbert(lp,lp)\n",
    "    np_i = np.eye(lp,lp)\n",
    "    hld[lp-4] = np.linalg.norm(h_i-np_i)\n",
    "    hlc[lp-4] = np.linalg.cond(hilbert(lp,lp))\n",
    "\n",
    "for lp in range(3,16):\n",
    "    if lp == 3:\n",
    "        gld = np.zeros(14)\n",
    "        glc = np.zeros(14)\n",
    "    \n",
    "    h_i = np.linalg.inv(grand(lp,lp))@grand(lp,lp)\n",
    "    np_i = np.eye(lp,lp)\n",
    "    gld[lp-4] = np.linalg.norm(h_i-np_i)\n",
    "    glc[lp-4] = np.linalg.cond(grand(lp,lp))\n",
    "\n",
    "px.line(np.log(glc))\n",
    "# px.line(np.log(hlc))\n",
    "# px.line(np.log(gld))\n",
    "# px.line(np.log(hld))"
   ]
  }
 ],
 "metadata": {
  "kernelspec": {
   "display_name": ".venv",
   "language": "python",
   "name": "python3"
  },
  "language_info": {
   "codemirror_mode": {
    "name": "ipython",
    "version": 3
   },
   "file_extension": ".py",
   "mimetype": "text/x-python",
   "name": "python",
   "nbconvert_exporter": "python",
   "pygments_lexer": "ipython3",
   "version": "3.13.3"
  }
 },
 "nbformat": 4,
 "nbformat_minor": 5
}
