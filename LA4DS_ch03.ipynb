{
 "cells": [
  {
   "cell_type": "markdown",
   "metadata": {
    "id": "SbGFWGzkd44U"
   },
   "source": [
    "# Practical Linear Algebra for Data Science\n",
    "## Mike X Cohen (sincxpress.com)\n",
    "### https://www.oreilly.com/library/view/practical-linear-algebra/9781098120603/\n",
    "\n",
    "#### Code for chapter 3"
   ]
  },
  {
   "cell_type": "code",
   "execution_count": 16,
   "metadata": {
    "executionInfo": {
     "elapsed": 4,
     "status": "ok",
     "timestamp": 1676509948636,
     "user": {
      "displayName": "Mike X Cohen",
      "userId": "13901636194183843661"
     },
     "user_tz": -540
    },
    "id": "k_8g1MZidFJK"
   },
   "outputs": [],
   "source": [
    "import numpy as np\n",
    "import matplotlib.pyplot as plt\n",
    "\n",
    "# NOTE: these lines define global figure properties used for publication.\n",
    "import matplotlib_inline.backend_inline\n",
    "matplotlib_inline.backend_inline.set_matplotlib_formats('svg') # print figures in svg format\n",
    "plt.rcParams.update({'font.size':14}) # set global font size"
   ]
  },
  {
   "cell_type": "code",
   "execution_count": null,
   "metadata": {
    "id": "S3MfM6SZWlW1"
   },
   "outputs": [],
   "source": []
  },
  {
   "cell_type": "markdown",
   "metadata": {
    "id": "OzKK07ak0CBp"
   },
   "source": [
    "# Linear weighted combinations"
   ]
  },
  {
   "cell_type": "code",
   "execution_count": null,
   "metadata": {
    "id": "l8E6A7Lv0CEb"
   },
   "outputs": [],
   "source": [
    "# the scalars\n",
    "l1 = 1\n",
    "l2 = 2\n",
    "l3 = -3\n",
    "\n",
    "# the vectors\n",
    "v1 = np.array([4,5,1])\n",
    "v2 = np.array([-4,0,-4])\n",
    "v3 = np.array([1,3,2])\n",
    "\n",
    "# linear weighted combination\n",
    "l1*v1 + l2*v2 + l3*v3"
   ]
  },
  {
   "cell_type": "markdown",
   "metadata": {
    "id": "8KQKiXGFe5nq"
   },
   "source": [
    "# Basis vectors and points"
   ]
  },
  {
   "cell_type": "code",
   "execution_count": null,
   "metadata": {
    "id": "ZGmivlIBdHTr"
   },
   "outputs": [],
   "source": [
    "\n",
    "# points (in Cartesian coordinates)\n",
    "p = (3,1)\n",
    "q = (-6,2)\n",
    "\n",
    "plt.figure(figsize=(6,6))\n",
    "\n",
    "# draw points\n",
    "plt.plot(p[0],p[1],'ko',markerfacecolor='k',markersize=10,label='Point p')\n",
    "plt.plot(q[0],q[1],'ks',markerfacecolor='k',markersize=10,label='Point q')\n",
    "\n",
    "# draw basis vectors\n",
    "plt.plot([0,0],[0,1],'k',linewidth=3,label='Basis S')\n",
    "plt.plot([0,1],[0,0],'k',linewidth=3)\n",
    "\n",
    "plt.plot([0,3],[0,1],'k--',linewidth=3,label='Basis T')\n",
    "plt.plot([0,-3],[0,1],'k--',linewidth=3)\n",
    "\n",
    "\n",
    "plt.axis('square')\n",
    "plt.grid(linestyle='--',color=[.8,.8,.8])\n",
    "plt.xlim([-7,7])\n",
    "plt.ylim([-7,7])\n",
    "plt.legend()\n",
    "plt.savefig('Figure_03_04.png',dpi=300)\n",
    "plt.show()"
   ]
  },
  {
   "cell_type": "code",
   "execution_count": null,
   "metadata": {
    "id": "A0lt_itadHXC"
   },
   "outputs": [],
   "source": []
  },
  {
   "cell_type": "markdown",
   "metadata": {
    "id": "m3p0sJfGYJEC"
   },
   "source": [
    "# Exercises"
   ]
  },
  {
   "cell_type": "markdown",
   "metadata": {
    "id": "dPpXof4wYgcM"
   },
   "source": [
    "# Exercise 1"
   ]
  },
  {
   "cell_type": "code",
   "execution_count": null,
   "metadata": {
    "id": "2YX1MnwPRA9w"
   },
   "outputs": [],
   "source": [
    "## Note: Make sure you run the code earlier to create variables l1, l2, etc.\n",
    "\n",
    "# organized into lists\n",
    "scalars = [ l1,l2,l3 ]\n",
    "vectors = [ v1,v2,v3 ]\n",
    "\n",
    "# initialize the linear combination\n",
    "linCombo = np.zeros(len(v1))\n",
    "\n",
    "# implement linear weighted combination using zip()\n",
    "for s,v in zip(scalars,vectors):\n",
    "  linCombo += s*v\n",
    "\n",
    "# confirm it's the same answer as above\n",
    "linCombo"
   ]
  },
  {
   "cell_type": "markdown",
   "metadata": {
    "id": "gaDegzriYJHQ"
   },
   "source": [
    "# Exercise 2"
   ]
  },
  {
   "cell_type": "code",
   "execution_count": null,
   "metadata": {
    "id": "dxEDtY-VZEGW"
   },
   "outputs": [],
   "source": [
    "# Whether it works or throws an error depends on how you set up the code.\n",
    "# Using zip() as above works, because zip() will use only the minimum-matching items.\n",
    "# Re-writing the code using indexing will cause an error, as in the code below.\n",
    "\n",
    "# make the scalars longer\n",
    "scalars = [ l1,l2,l3,5 ]\n",
    "vectors = [ v1,v2,v3 ]\n",
    "\n",
    "linCombo = np.zeros(len(v1))\n",
    "\n",
    "for i in range(len(scalars)):\n",
    "  linCombo += scalars[i]*vectors[i]"
   ]
  },
  {
   "cell_type": "code",
   "execution_count": null,
   "metadata": {
    "id": "zcphFAUCYJN2"
   },
   "outputs": [],
   "source": []
  },
  {
   "cell_type": "markdown",
   "metadata": {
    "id": "RMG1ofpwuPBj"
   },
   "source": [
    "# Exercise 3"
   ]
  },
  {
   "cell_type": "code",
   "execution_count": null,
   "metadata": {
    "colab": {
     "base_uri": "https://localhost:8080/",
     "height": 548
    },
    "executionInfo": {
     "elapsed": 3134,
     "status": "ok",
     "timestamp": 1676509962295,
     "user": {
      "displayName": "Mike X Cohen",
      "userId": "13901636194183843661"
     },
     "user_tz": -540
    },
    "id": "yFBpjwwjuRfP",
    "outputId": "c0d177c0-4041-42f1-9a8c-8edde24d524c"
   },
   "outputs": [],
   "source": [
    "# the vector set (just one vector)\n",
    "A  = np.array([ 1,3 ])\n",
    "\n",
    "# x-axis range\n",
    "xlim = [-4,4]\n",
    "\n",
    "# random scalars in that range\n",
    "scalars = np.random.uniform(low=xlim[0],high=xlim[1],size=100)\n",
    "\n",
    "\n",
    "\n",
    "# create a figure, etc\n",
    "plt.figure(figsize=(6,6))\n",
    "\n",
    "# loop over the random scalars\n",
    "for s in scalars:\n",
    "\n",
    "  # create point p\n",
    "  p = A*s\n",
    "\n",
    "  # plot it\n",
    "  plt.plot(p[0],p[1],'ko')\n",
    "\n",
    "\n",
    "plt.xlim(xlim)\n",
    "plt.ylim(xlim)\n",
    "plt.grid()\n",
    "plt.text(-4.5,4.5,'A)',fontweight='bold',fontsize=18)\n",
    "plt.savefig('Figure_03_07a.png',dpi=300)\n",
    "plt.show()"
   ]
  },
  {
   "cell_type": "code",
   "execution_count": null,
   "metadata": {
    "colab": {
     "base_uri": "https://localhost:8080/",
     "height": 584
    },
    "executionInfo": {
     "elapsed": 736,
     "status": "ok",
     "timestamp": 1676510040155,
     "user": {
      "displayName": "Mike X Cohen",
      "userId": "13901636194183843661"
     },
     "user_tz": -540
    },
    "id": "Hm8ml4FcuRmA",
    "outputId": "0f59daf5-05bd-4f40-e89f-27279a62479d"
   },
   "outputs": [],
   "source": [
    "import plotly.graph_objects as go\n",
    "\n",
    "# two vectors in R3\n",
    "v1 = np.array([ 3,5,1 ])\n",
    "v2 = np.array([ 0,2,2 ])\n",
    "\n",
    "## uncomment the lines below for the second part\n",
    "# v1 = np.array([ 3.0,5.0,1.0 ])\n",
    "# v2 = np.array([ 1.5,2.5,0.5 ])\n",
    "\n",
    "\n",
    "# random scalars in the x-axis range\n",
    "scalars = np.random.uniform(low=xlim[0],high=xlim[1],size=(100,2))\n",
    "\n",
    "\n",
    "\n",
    "# create random points\n",
    "points = np.zeros((100,3))\n",
    "for i in range(len(scalars)):\n",
    "\n",
    "  # define this point as a random weighted combination of the two vectors\n",
    "  points[i,:] = v1*scalars[i,0] + v2*scalars[i,1]\n",
    "\n",
    "\n",
    "# draw the dots in the plane\n",
    "fig = go.Figure( data=[go.Scatter3d(x=points[:,0], y=points[:,1], z=points[:,2], \n",
    "                                    mode='markers', marker=dict(size=6,color='black') )])\n",
    "\n",
    "fig.update_layout(margin=dict(l=0,r=0,b=0,t=0))\n",
    "plt.savefig('Figure_03_07b.png',dpi=300)\n",
    "fig.show()"
   ]
  }
 ],
 "metadata": {
  "colab": {
   "authorship_tag": "ABX9TyNp75EgKJZFJ+MNi5oG062k",
   "provenance": []
  },
  "kernelspec": {
   "display_name": "Python 3",
   "name": "python3"
  },
  "language_info": {
   "codemirror_mode": {
    "name": "ipython",
    "version": 3
   },
   "file_extension": ".py",
   "mimetype": "text/x-python",
   "name": "python",
   "nbconvert_exporter": "python",
   "pygments_lexer": "ipython3",
   "version": "3.11.2"
  }
 },
 "nbformat": 4,
 "nbformat_minor": 0
}
